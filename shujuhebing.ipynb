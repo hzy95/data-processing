{
 "cells": [
  {
   "cell_type": "code",
   "execution_count": 4,
   "metadata": {},
   "outputs": [
    {
     "name": "stdout",
     "output_type": "stream",
     "text": [
      "结束\n"
     ]
    }
   ],
   "source": [
    "import os\n",
    "#获取目标文件夹的路径\n",
    "filedir = os.getcwd()+'/labels'\n",
    "#获取当前文件夹中的文件名称列表  \n",
    "filenames=os.listdir(filedir)\n",
    "#打开当前目录下的result.txt文件，如果没有则创建\n",
    "f=open('l_result.txt','w')\n",
    "#先遍历文件名\n",
    "for filename in filenames:\n",
    "    filepath = filedir+'/'+filename\n",
    "    #遍历单个文件，读取行数\n",
    "    for line in open(filepath):\n",
    "        f.writelines(line)\n",
    "       # f.write('\\n')\n",
    "#关闭文件\n",
    "f.close()\n",
    "print(\"结束\")"
   ]
  },
  {
   "cell_type": "code",
   "execution_count": null,
   "metadata": {
    "collapsed": true
   },
   "outputs": [],
   "source": []
  }
 ],
 "metadata": {
  "kernelspec": {
   "display_name": "Python 3",
   "language": "python",
   "name": "python3"
  },
  "language_info": {
   "codemirror_mode": {
    "name": "ipython",
    "version": 3
   },
   "file_extension": ".py",
   "mimetype": "text/x-python",
   "name": "python",
   "nbconvert_exporter": "python",
   "pygments_lexer": "ipython3",
   "version": "3.6.1"
  }
 },
 "nbformat": 4,
 "nbformat_minor": 2
}
